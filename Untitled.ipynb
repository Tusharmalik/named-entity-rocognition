{
 "cells": [
  {
   "cell_type": "code",
   "execution_count": 8,
   "metadata": {},
   "outputs": [],
   "source": [
    "sentence = []\n",
    "vocab = []\n",
    "label = []\n",
    "with open(\"train.txt\", 'r') as f:\n",
    "    for i, line in enumerate(f):\n",
    "        line = line.strip().split()\n",
    "#         line = line.split()\n",
    "        if(i%3==0):\n",
    "            sentence.append(line)\n",
    "        elif((i%3)-1 == 0):\n",
    "            vocab.append(line)\n",
    "        else:\n",
    "            label.append(line)"
   ]
  },
  {
   "cell_type": "code",
   "execution_count": 9,
   "metadata": {},
   "outputs": [
    {
     "data": {
      "text/plain": [
       "(['American', 'League'], ['NNP', 'NNP'], ['B-MISC', 'I-MISC'])"
      ]
     },
     "execution_count": 9,
     "metadata": {},
     "output_type": "execute_result"
    }
   ],
   "source": [
    "sentence[1], vocab[1], label[1]"
   ]
  },
  {
   "cell_type": "code",
   "execution_count": 17,
   "metadata": {},
   "outputs": [],
   "source": [
    "label1 = label[:]\n",
    "for x, li in enumerate(label):\n",
    "    for i, word in enumerate(li):\n",
    "        if(word == 'B-MISC' or word == 'I-MISC'):\n",
    "            label[x][i] = 'MISC'\n",
    "        elif(word == 'B-ORG' or word == 'I-ORG'):\n",
    "            label[x][i] = 'ORG'\n",
    "        elif(word == 'B-PER' or word == 'I-PER'):\n",
    "            label[x][i] = 'PER'\n",
    "        elif(word == 'B-LOC' or word == 'I-LOC'):\n",
    "            label[x][i] = 'LOC'\n",
    "        else:\n",
    "            label[x][i] = 'other'"
   ]
  },
  {
   "cell_type": "code",
   "execution_count": 18,
   "metadata": {},
   "outputs": [
    {
     "data": {
      "text/plain": [
       "['other', 'MISC', 'ORG', 'PER', 'LOC']"
      ]
     },
     "execution_count": 18,
     "metadata": {},
     "output_type": "execute_result"
    }
   ],
   "source": [
    "new = []\n",
    "for x in label:\n",
    "    for i in x:\n",
    "        if i not in new:\n",
    "            new.append(i)\n",
    "new"
   ]
  },
  {
   "cell_type": "code",
   "execution_count": 22,
   "metadata": {},
   "outputs": [
    {
     "data": {
      "text/plain": [
       "[['played', 'other'],\n",
       " ['on', 'other'],\n",
       " ['Monday', 'other'],\n",
       " ['(', 'other'],\n",
       " ['home', 'other'],\n",
       " ['team', 'other'],\n",
       " ['in', 'other'],\n",
       " ['CAPS', 'other'],\n",
       " [')', 'other'],\n",
       " [':', 'other'],\n",
       " ['American', 'MISC'],\n",
       " ['League', 'MISC'],\n",
       " ['Cleveland', 'ORG'],\n",
       " ['2', 'other'],\n",
       " ['DETROIT', 'ORG']]"
      ]
     },
     "execution_count": 22,
     "metadata": {},
     "output_type": "execute_result"
    }
   ],
   "source": [
    "data = []\n",
    "for x, sentences in enumerate(sentence):\n",
    "    for i, word in enumerate(sentences):\n",
    "        data.append([word, label[x][i]])\n",
    "data[:15]"
   ]
  },
  {
   "cell_type": "code",
   "execution_count": 24,
   "metadata": {},
   "outputs": [],
   "source": [
    "import numpy as np\n",
    "import matplotlib.pyplot as plt"
   ]
  },
  {
   "cell_type": "code",
   "execution_count": 26,
   "metadata": {},
   "outputs": [],
   "source": [
    "data = np.array(data)"
   ]
  },
  {
   "cell_type": "code",
   "execution_count": 27,
   "metadata": {},
   "outputs": [
    {
     "data": {
      "text/plain": [
       "(201126, 2)"
      ]
     },
     "execution_count": 27,
     "metadata": {},
     "output_type": "execute_result"
    }
   ],
   "source": [
    "data.shape"
   ]
  },
  {
   "cell_type": "code",
   "execution_count": null,
   "metadata": {},
   "outputs": [],
   "source": []
  }
 ],
 "metadata": {
  "kernelspec": {
   "display_name": "Python 3",
   "language": "python",
   "name": "python3"
  },
  "language_info": {
   "codemirror_mode": {
    "name": "ipython",
    "version": 3
   },
   "file_extension": ".py",
   "mimetype": "text/x-python",
   "name": "python",
   "nbconvert_exporter": "python",
   "pygments_lexer": "ipython3",
   "version": "3.6.5"
  }
 },
 "nbformat": 4,
 "nbformat_minor": 2
}
